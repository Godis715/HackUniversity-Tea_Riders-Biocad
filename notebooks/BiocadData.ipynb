{
 "cells": [
  {
   "cell_type": "code",
   "execution_count": 151,
   "metadata": {},
   "outputs": [],
   "source": [
    "import numpy as np\n",
    "import pandas as pd\n",
    "import os\n",
    "import matplotlib.pyplot"
   ]
  },
  {
   "cell_type": "code",
   "execution_count": 152,
   "metadata": {},
   "outputs": [],
   "source": [
    "os.chdir(\"C:/Users/I/Documents/DenisProjects/Hackaton/biocaddata/\")"
   ]
  },
  {
   "cell_type": "code",
   "execution_count": 153,
   "metadata": {},
   "outputs": [],
   "source": [
    "equipData = pd.read_excel(\"equipment.xlsx\")"
   ]
  },
  {
   "cell_type": "code",
   "execution_count": 154,
   "metadata": {},
   "outputs": [],
   "source": [
    "orderData = pd.read_excel(\"order.xlsx\")"
   ]
  },
  {
   "cell_type": "code",
   "execution_count": 155,
   "metadata": {},
   "outputs": [],
   "source": [
    "productData = pd.read_excel(\"product.xlsx\")"
   ]
  },
  {
   "cell_type": "code",
   "execution_count": 156,
   "metadata": {},
   "outputs": [],
   "source": [
    "filtData = pd.read_excel(\"filtered_eq_hist_data.xlsx\")"
   ]
  },
  {
   "cell_type": "code",
   "execution_count": null,
   "metadata": {},
   "outputs": [],
   "source": [
    "equipData[:10]"
   ]
  },
  {
   "cell_type": "code",
   "execution_count": null,
   "metadata": {},
   "outputs": [],
   "source": [
    "orderData[:10]"
   ]
  },
  {
   "cell_type": "code",
   "execution_count": null,
   "metadata": {},
   "outputs": [],
   "source": [
    "productData[:10]"
   ]
  },
  {
   "cell_type": "code",
   "execution_count": null,
   "metadata": {},
   "outputs": [],
   "source": [
    "filtData[:10]"
   ]
  },
  {
   "cell_type": "code",
   "execution_count": null,
   "metadata": {},
   "outputs": [],
   "source": [
    "equipSet = {}\n",
    "\n",
    "for prodEquipStr in productData['equipment_class'].tolist():\n",
    "            \n",
    "    prodEquipStr = prodEquipStr[1:-1].split(', ')\n",
    "    prodEquipStr = list(map(lambda x: x.strip(\"\\'\").replace('\\\\xa0', u' '), prodEquipStr))\n",
    "    \n",
    "    for eqClass in prodEquipStr:\n",
    "        if equipSet.get(eqClass) == None:\n",
    "            equipSet[eqClass] = [name]\n",
    "        else:\n",
    "            equipSet[eqClass].append(name)\n",
    "\n",
    "#equipSet\n",
    "#equipList = sorted(equipSet.items(), key=lambda x: len(x[1]), reverse=True)\n",
    "#equipList"
   ]
  },
  {
   "cell_type": "code",
   "execution_count": null,
   "metadata": {},
   "outputs": [],
   "source": [
    "eqHistData = pd.read_excel(\"eq_hist_data.xlsx\")"
   ]
  },
  {
   "cell_type": "code",
   "execution_count": null,
   "metadata": {},
   "outputs": [],
   "source": [
    "validRow = (eqHistData['work'] != 0) | (eqHistData['maintenance'] != 0) | (eqHistData['idle'] != 0)"
   ]
  },
  {
   "cell_type": "code",
   "execution_count": null,
   "metadata": {},
   "outputs": [],
   "source": [
    "filtData = eqHistData[validRow]"
   ]
  },
  {
   "cell_type": "code",
   "execution_count": null,
   "metadata": {},
   "outputs": [],
   "source": [
    "myId = filtData['id'].tolist()[0]\n",
    "\n",
    "dataOfId = filtData[filtData['id'] == myId]"
   ]
  },
  {
   "cell_type": "code",
   "execution_count": null,
   "metadata": {},
   "outputs": [],
   "source": [
    "def dataById(df, ID):\n",
    "    return df[df['id'] == ID].drop('id', axis=1)"
   ]
  },
  {
   "cell_type": "code",
   "execution_count": 158,
   "metadata": {},
   "outputs": [],
   "source": [
    "def normalizeDays(df):\n",
    "    hours = df['day']\n",
    "    days = (hours - 1518987600) / (60 * 60 * 24)\n",
    "    df.update({'day' : days})"
   ]
  }
 ],
 "metadata": {
  "kernelspec": {
   "display_name": "Python 3",
   "language": "python",
   "name": "python3"
  },
  "language_info": {
   "codemirror_mode": {
    "name": "ipython",
    "version": 3
   },
   "file_extension": ".py",
   "mimetype": "text/x-python",
   "name": "python",
   "nbconvert_exporter": "python",
   "pygments_lexer": "ipython3",
   "version": "3.7.1"
  }
 },
 "nbformat": 4,
 "nbformat_minor": 2
}
