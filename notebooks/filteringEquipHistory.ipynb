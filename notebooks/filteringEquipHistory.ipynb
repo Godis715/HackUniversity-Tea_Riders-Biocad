{
 "cells": [
  {
   "cell_type": "code",
   "execution_count": null,
   "metadata": {},
   "outputs": [],
   "source": [
    "import numpy as np\n",
    "import pandas as pd\n",
    "import os\n",
    "import matplotlib.pyplot"
   ]
  },
  {
   "cell_type": "code",
   "execution_count": null,
   "metadata": {},
   "outputs": [],
   "source": [
    "os.chdir(\"C:/Users/I/Documents/DenisProjects/Hackaton/biocaddata/\")"
   ]
  },
  {
   "cell_type": "code",
   "execution_count": null,
   "metadata": {},
   "outputs": [],
   "source": [
    "eqHistData = pd.read_excel(\"eq_hist_data.xlsx\")"
   ]
  },
  {
   "cell_type": "code",
   "execution_count": null,
   "metadata": {},
   "outputs": [],
   "source": [
    "validRow = (eqHistData['work'] != 0) | (eqHistData['maintenance'] != 0) | (eqHistData['idle'] != 0)\n",
    "filtData = eqHistData[validRow]"
   ]
  },
  {
   "cell_type": "code",
   "execution_count": null,
   "metadata": {},
   "outputs": [],
   "source": [
    "#check if sum of hours is equal to 24\n",
    "\n",
    "work = np.array(filtData['work'].tolist())\n",
    "maint = np.array(filtData['maintenance'].tolist())\n",
    "idle = np.array(filtData['idle'].tolist())\n",
    "\n",
    "timing = work + maint + idle\n",
    "\n",
    "eps = 1e-4\n",
    "\n",
    "filtData[abs(timing - 24) > eps ]"
   ]
  },
  {
   "cell_type": "code",
   "execution_count": null,
   "metadata": {},
   "outputs": [],
   "source": [
    "#save filtered data\n",
    "filtData.to_excel('filtered_eq_hist_data.xlsx', sheet_name='Sheet1')"
   ]
  }
 ],
 "metadata": {
  "kernelspec": {
   "display_name": "Python 3",
   "language": "python",
   "name": "python3"
  },
  "language_info": {
   "codemirror_mode": {
    "name": "ipython",
    "version": 3
   },
   "file_extension": ".py",
   "mimetype": "text/x-python",
   "name": "python",
   "nbconvert_exporter": "python",
   "pygments_lexer": "ipython3",
   "version": "3.7.1"
  }
 },
 "nbformat": 4,
 "nbformat_minor": 2
}
